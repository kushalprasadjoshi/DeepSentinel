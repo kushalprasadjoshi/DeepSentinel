{
 "cells": [
  {
   "cell_type": "code",
   "execution_count": 1,
   "id": "291b64e1",
   "metadata": {},
   "outputs": [],
   "source": [
    "import os\n",
    "import cv2\n",
    "import numpy as np\n",
    "import pandas as pd\n",
    "import matplotlib.pyplot as plt\n",
    "from sklearn.compose import ColumnTransformer\n",
    "from sklearn.preprocessing import StandardScaler, OneHotEncoder\n",
    "from sklearn.model_selection import train_test_split\n",
    "from tensorflow.keras.models import Model\n",
    "from tensorflow.keras.layers import Input, Conv2D, MaxPooling2D, Flatten, Dense, Dropout, concatenate\n",
    "from tensorflow.keras.optimizers import Adam\n",
    "from tensorflow.keras.utils import to_categorical\n",
    "import joblib"
   ]
  },
  {
   "cell_type": "markdown",
   "id": "35a72067",
   "metadata": {},
   "source": [
    "#  Part 1: Data Preprocessing\n"
   ]
  },
  {
   "cell_type": "code",
   "execution_count": 2,
   "id": "e7efa4ea",
   "metadata": {},
   "outputs": [],
   "source": [
    "\n",
    "def extract_frames(video_path, output_dir, fps=1):\n",
    "    os.makedirs(output_dir, exist_ok=True)\n",
    "    cap = cv2.VideoCapture(video_path)\n",
    "    frame_count = 0\n",
    "    extracted_frames = []\n",
    "\n",
    "    while cap.isOpened():\n",
    "        ret, frame = cap.read()\n",
    "        if not ret:\n",
    "            break\n",
    "        if int(cap.get(cv2.CAP_PROP_FPS)) > 0 and frame_count % int(cap.get(cv2.CAP_PROP_FPS) // fps) == 0:\n",
    "            frame_path = os.path.join(output_dir, f\"frame_{frame_count}.jpg\")\n",
    "            cv2.imwrite(frame_path, frame)\n",
    "            extracted_frames.append(frame_path)\n",
    "        frame_count += 1\n",
    "\n",
    "    cap.release()\n",
    "    return extracted_frames"
   ]
  },
  {
   "cell_type": "code",
   "execution_count": 3,
   "id": "926e2f9d",
   "metadata": {},
   "outputs": [],
   "source": [
    "\n",
    "def load_and_preprocess_data(csv_path, image_dir):\n",
    "    df = pd.read_csv(csv_path)\n",
    "\n",
    "    structured_features = ['location_type', 'weapon_type', 'time_of_day']\n",
    "    numeric_features = ['casualties']\n",
    "    categorical_features = ['location_type', 'weapon_type', 'time_of_day']\n",
    "\n",
    "    preprocessor = ColumnTransformer(\n",
    "        transformers=[\n",
    "            ('num', StandardScaler(), numeric_features),\n",
    "            ('cat', OneHotEncoder(handle_unknown='ignore'), categorical_features)\n",
    "        ])\n",
    "\n",
    "    image_paths = []\n",
    "    labels = []\n",
    "    structured_data = []\n",
    "\n",
    "    for _, row in df.iterrows():\n",
    "        img_path = os.path.join(image_dir, f\"incident_{row['incident_id']}.jpg\")\n",
    "        if os.path.exists(img_path):\n",
    "            image_paths.append(img_path)\n",
    "            labels.append(1 if row['suspicious'] else 0)\n",
    "            structured_row = row[structured_features + numeric_features]\n",
    "            structured_data.append(structured_row.values)\n",
    "\n",
    "    structured_data = np.array(structured_data)\n",
    "    labels = np.array(labels)\n",
    "    return image_paths, structured_data, labels, preprocessor"
   ]
  },
  {
   "cell_type": "code",
   "execution_count": 4,
   "id": "98b27912",
   "metadata": {},
   "outputs": [],
   "source": [
    "def preprocess_image(image_path, target_size=(224, 224)):\n",
    "    img = cv2.imread(image_path)\n",
    "    img = cv2.cvtColor(img, cv2.COLOR_BGR2RGB)\n",
    "    img = cv2.resize(img, target_size)\n",
    "    img = img / 255.0\n",
    "    return img"
   ]
  },
  {
   "cell_type": "markdown",
   "id": "d765ef14",
   "metadata": {},
   "source": [
    "# Part 2: Model Building"
   ]
  },
  {
   "cell_type": "code",
   "execution_count": 5,
   "id": "040eee26",
   "metadata": {},
   "outputs": [],
   "source": [
    "def create_cnn_model(input_shape):\n",
    "    inputs = Input(shape=input_shape)\n",
    "    x = Conv2D(32, (3, 3), activation='relu')(inputs)\n",
    "    x = MaxPooling2D((2, 2))(x)\n",
    "    x = Conv2D(64, (3, 3), activation='relu')(x)\n",
    "    x = MaxPooling2D((2, 2))(x)\n",
    "    x = Conv2D(128, (3, 3), activation='relu')(x)\n",
    "    x = MaxPooling2D((2, 2))(x)\n",
    "    x = Flatten()(x)\n",
    "    x = Dense(128, activation='relu')(x)\n",
    "    return Model(inputs, x, name='cnn_model')"
   ]
  },
  {
   "cell_type": "code",
   "execution_count": 6,
   "id": "695b44a1",
   "metadata": {},
   "outputs": [],
   "source": [
    "def create_combined_model(image_shape, num_structured_features):\n",
    "    image_input = Input(shape=image_shape, name='image_input')\n",
    "    cnn_model = create_cnn_model(image_shape)\n",
    "    image_output = cnn_model(image_input)\n",
    "\n",
    "    structured_input = Input(shape=(num_structured_features,), name='structured_input')\n",
    "    x = Dense(32, activation='relu')(structured_input)\n",
    "    x = Dropout(0.2)(x)\n",
    "    structured_output = Dense(16, activation='relu')(x)\n",
    "\n",
    "    combined = concatenate([image_output, structured_output])\n",
    "    x = Dense(64, activation='relu')(combined)\n",
    "    x = Dropout(0.3)(x)\n",
    "    output = Dense(2, activation='softmax')(x)\n",
    "\n",
    "    return Model(inputs=[image_input, structured_input], outputs=output)"
   ]
  },
  {
   "cell_type": "markdown",
   "id": "660a8cd2",
   "metadata": {},
   "source": [
    "# Part 3: Training Pipeline"
   ]
  },
  {
   "cell_type": "code",
   "execution_count": 7,
   "id": "7c19a253",
   "metadata": {},
   "outputs": [],
   "source": [
    "def train_model(image_paths, structured_data, labels, preprocessor):\n",
    "    images = np.array([preprocess_image(path) for path in image_paths])\n",
    "    structured_data = preprocessor.fit_transform(structured_data)\n",
    "\n",
    "    X_train_img, X_test_img, X_train_struct, X_test_struct, y_train, y_test = train_test_split(\n",
    "        images, structured_data, labels, test_size=0.2, random_state=42\n",
    "    )\n",
    "\n",
    "    y_train = to_categorical(y_train, 2)\n",
    "    y_test = to_categorical(y_test, 2)\n",
    "\n",
    "    model = create_combined_model(images[0].shape, structured_data.shape[1])\n",
    "    model.compile(optimizer=Adam(learning_rate=0.0001),\n",
    "                  loss='categorical_crossentropy',\n",
    "                  metrics=['accuracy'])\n",
    "\n",
    "    history = model.fit(\n",
    "        [X_train_img, X_train_struct],\n",
    "        y_train,\n",
    "        epochs=15,\n",
    "        batch_size=32,\n",
    "        validation_data=([X_test_img, X_test_struct], y_test)\n",
    "    )\n",
    "\n",
    "    model.save('surveillance_model.h5')\n",
    "    joblib.dump(preprocessor, 'preprocessor.joblib')\n",
    "    return model, history"
   ]
  },
  {
   "cell_type": "markdown",
   "id": "fc6a72a1",
   "metadata": {},
   "source": [
    "# Part 4: Visualization"
   ]
  },
  {
   "cell_type": "code",
   "execution_count": 8,
   "id": "c7dcfcb5",
   "metadata": {},
   "outputs": [],
   "source": [
    "def visualize_data(csv_path):\n",
    "    df = pd.read_csv(csv_path)\n",
    "    df['date'] = pd.to_datetime(df['date'])\n",
    "\n",
    "    plt.figure(figsize=(12, 6))\n",
    "    df.set_index('date').resample('M').size().plot()\n",
    "    plt.title('Education Under Attack Incidents (Monthly)')\n",
    "    plt.ylabel('Number of Incidents')\n",
    "    plt.tight_layout()\n",
    "    plt.savefig('incidents_over_time.png')\n",
    "\n",
    "    plt.figure(figsize=(12, 6))\n",
    "    df['country'].value_counts().head(10).plot(kind='bar')\n",
    "    plt.title('Top 10 Countries by Incident Count')\n",
    "    plt.ylabel('Number of Incidents')\n",
    "    plt.tight_layout()\n",
    "    plt.savefig('incidents_by_country.png')\n",
    "\n",
    "    plt.figure(figsize=(12, 6))\n",
    "    df['attack_type'].value_counts().plot(kind='pie', autopct='%1.1f%%')\n",
    "    plt.title('Distribution of Attack Types')\n",
    "    plt.ylabel('')\n",
    "    plt.tight_layout()\n",
    "    plt.savefig('attack_types.png')"
   ]
  },
  {
   "cell_type": "code",
   "execution_count": null,
   "id": "fa1c5995",
   "metadata": {},
   "outputs": [],
   "source": []
  }
 ],
 "metadata": {
  "kernelspec": {
   "display_name": "venv",
   "language": "python",
   "name": "python3"
  },
  "language_info": {
   "codemirror_mode": {
    "name": "ipython",
    "version": 3
   },
   "file_extension": ".py",
   "mimetype": "text/x-python",
   "name": "python",
   "nbconvert_exporter": "python",
   "pygments_lexer": "ipython3",
   "version": "3.10.11"
  }
 },
 "nbformat": 4,
 "nbformat_minor": 5
}
